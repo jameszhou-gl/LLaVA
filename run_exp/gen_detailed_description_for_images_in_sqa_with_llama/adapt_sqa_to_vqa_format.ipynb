{
 "cells": [
  {
   "cell_type": "code",
   "execution_count": 23,
   "metadata": {},
   "outputs": [],
   "source": [
    "import os\n",
    "import json\n"
   ]
  },
  {
   "cell_type": "code",
   "execution_count": 24,
   "metadata": {},
   "outputs": [],
   "source": [
    "# ! specify the evaluation split\n",
    "eval_split = \"minitest\"  # [minitest, test, minitest_first_40, scienceqa_chameleon_gpt4_test_failure_cases]"
   ]
  },
  {
   "cell_type": "code",
   "execution_count": 25,
   "metadata": {},
   "outputs": [],
   "source": [
    "question_id = 0\n",
    "pid_splits_path = '/l/users/guanglin.zhou/llava/playground/data/eval/scienceqa/pid_splits.json'\n",
    "problems_path = '/l/users/guanglin.zhou/llava/playground/data/eval/scienceqa/problems.json'\n",
    "# Specify the file name\n",
    "output_file_name = \"sqa_{}_questions_in_vqa_format.jsonl\".format(eval_split)"
   ]
  },
  {
   "cell_type": "code",
   "execution_count": 26,
   "metadata": {},
   "outputs": [],
   "source": [
    "pid_splits = json.load(open(pid_splits_path))\n",
    "_examples = json.load(open(problems_path))\n",
    "examples = {pid: _examples[pid] for pid in pid_splits[eval_split]}"
   ]
  },
  {
   "cell_type": "code",
   "execution_count": 27,
   "metadata": {},
   "outputs": [],
   "source": [
    "# update metadata\n",
    "for pid, example in examples.items():\n",
    "    image = example[\"image\"]\n",
    "    split = example[\"split\"]\n",
    "    if image:\n",
    "        example[\"image_file\"] = os.path.join(split, pid, image)\n",
    "        example_vqa_format = {}\n",
    "        example_vqa_format['image'] = example[\"image_file\"]\n",
    "        example_vqa_format['text'] = 'Describe this photo in detail.'\n",
    "        example_vqa_format['category'] = 'detail'\n",
    "        example_vqa_format['question_id'] = question_id\n",
    "        # Writing to JSONL file\n",
    "        mode = 'a' if question_id > 0 else 'w'\n",
    "        with open(output_file_name, mode) as jsonl_file:\n",
    "            jsonl_file.write(json.dumps(example_vqa_format) + '\\n')\n",
    "        question_id += 1"
   ]
  },
  {
   "cell_type": "code",
   "execution_count": null,
   "metadata": {},
   "outputs": [],
   "source": []
  }
 ],
 "metadata": {
  "kernelspec": {
   "display_name": "llava",
   "language": "python",
   "name": "python3"
  },
  "language_info": {
   "codemirror_mode": {
    "name": "ipython",
    "version": 3
   },
   "file_extension": ".py",
   "mimetype": "text/x-python",
   "name": "python",
   "nbconvert_exporter": "python",
   "pygments_lexer": "ipython3",
   "version": "3.10.13"
  }
 },
 "nbformat": 4,
 "nbformat_minor": 2
}
