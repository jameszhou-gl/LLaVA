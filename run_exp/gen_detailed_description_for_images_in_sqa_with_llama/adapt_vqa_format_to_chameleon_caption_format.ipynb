{
 "cells": [
  {
   "cell_type": "code",
   "execution_count": 5,
   "metadata": {},
   "outputs": [
    {
     "name": "stdout",
     "output_type": "stream",
     "text": [
      "Head: /home/guanglin.zhou/code/LLaVA/run_exp/exp_results/2023-10-25-15_18_26\n",
      "Tail: llava-v1.5-7b_gen_detailed_description_for_image_sqa_minitest.jsonl\n",
      "model: llava-v1.5-7b\n"
     ]
    }
   ],
   "source": [
    "import os\n",
    "\n",
    "# ! Specify path\n",
    "jsonl_file_path = '/home/guanglin.zhou/code/LLaVA/run_exp/exp_results/2023-10-25-15_18_26/llava-v1.5-7b_gen_detailed_description_for_image_sqa_minitest.jsonl'\n",
    "\n",
    "# Split the path into head and tail\n",
    "head, tail = os.path.split(jsonl_file_path)\n",
    "model = tail.split('_')[0]\n",
    "# Display the results\n",
    "print(\"Head:\", head)\n",
    "print(\"Tail:\", tail)\n",
    "print('model:', model)\n",
    "max_length = -1\n",
    "num_beams = -1\n"
   ]
  },
  {
   "cell_type": "code",
   "execution_count": 6,
   "metadata": {},
   "outputs": [],
   "source": [
    "import json\n",
    "captions_dict = {}\n",
    "# Read the JSONL file line by line\n",
    "with open(jsonl_file_path, 'r') as f:\n",
    "    for line in f:\n",
    "        # Parse the JSON object from the line\n",
    "        json_obj = json.loads(line)\n",
    "        caption = json_obj.get('text', 'N/A')\n",
    "        image_id = json_obj.get('question_id', 'N/A')\n",
    "        captions_dict[image_id] = caption\n",
    "final_output_dict = {}\n",
    "final_output_dict['model'] = model\n",
    "final_output_dict['max_length'] = -1\n",
    "final_output_dict['num_beams'] = -1\n",
    "final_output_dict['captions'] = captions_dict"
   ]
  },
  {
   "cell_type": "code",
   "execution_count": 7,
   "metadata": {},
   "outputs": [],
   "source": [
    "# Write to JSON file\n",
    "with open(head+'/'+'captions_{}.json'.format(model), 'w') as json_file:\n",
    "    json.dump(final_output_dict, json_file, indent=4)"
   ]
  },
  {
   "cell_type": "code",
   "execution_count": null,
   "metadata": {},
   "outputs": [],
   "source": []
  }
 ],
 "metadata": {
  "kernelspec": {
   "display_name": "llava",
   "language": "python",
   "name": "python3"
  },
  "language_info": {
   "codemirror_mode": {
    "name": "ipython",
    "version": 3
   },
   "file_extension": ".py",
   "mimetype": "text/x-python",
   "name": "python",
   "nbconvert_exporter": "python",
   "pygments_lexer": "ipython3",
   "version": "3.10.13"
  }
 },
 "nbformat": 4,
 "nbformat_minor": 2
}
